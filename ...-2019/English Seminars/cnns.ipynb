{
 "cells": [
  {
   "cell_type": "markdown",
   "metadata": {},
   "source": [
    "For that lab we will need keras, so go to your python.exe location and run:\n",
    "\n",
    "`python -m pip install keras`\n",
    "\n",
    "That will install keras and tensorflow libraries for you.\n",
    "\n",
    "For model visualization we will also need [graphviz](https://graphviz.gitlab.io/download/) lib, so also please navigate to the link and install it, also adding it ti PATH variable.\n",
    "\n",
    "We will work firstly with pretrained model:"
   ]
  },
  {
   "cell_type": "code",
   "execution_count": 41,
   "metadata": {
    "collapsed": true
   },
   "outputs": [],
   "source": [
    "import keras\n",
    "\n",
    "model = keras.applications.vgg16.VGG16()"
   ]
  },
  {
   "cell_type": "markdown",
   "metadata": {},
   "source": [
    "### Getting weight and layers data "
   ]
  },
  {
   "cell_type": "markdown",
   "metadata": {},
   "source": [
    "Let us visualize this model"
   ]
  },
  {
   "cell_type": "code",
   "execution_count": 42,
   "metadata": {},
   "outputs": [
    {
     "data": {
      "image/svg+xml": [
       "<svg height=\"1651pt\" viewBox=\"0.00 0.00 187.00 1651.00\" width=\"187pt\" xmlns=\"http://www.w3.org/2000/svg\" xmlns:xlink=\"http://www.w3.org/1999/xlink\">\n",
       "<g class=\"graph\" id=\"graph0\" transform=\"scale(1 1) rotate(0) translate(4 1647)\">\n",
       "<title>G</title>\n",
       "<polygon fill=\"white\" points=\"-4,4 -4,-1647 183,-1647 183,4 -4,4\" stroke=\"none\"/>\n",
       "<!-- 2022631887592 -->\n",
       "<g class=\"node\" id=\"node1\"><title>2022631887592</title>\n",
       "<polygon fill=\"none\" points=\"26.5,-1606.5 26.5,-1642.5 152.5,-1642.5 152.5,-1606.5 26.5,-1606.5\" stroke=\"black\"/>\n",
       "<text font-family=\"Times New Roman,serif\" font-size=\"14.00\" text-anchor=\"middle\" x=\"89.5\" y=\"-1620.8\">input_2: InputLayer</text>\n",
       "</g>\n",
       "<!-- 2020909402768 -->\n",
       "<g class=\"node\" id=\"node2\"><title>2020909402768</title>\n",
       "<polygon fill=\"none\" points=\"14,-1533.5 14,-1569.5 165,-1569.5 165,-1533.5 14,-1533.5\" stroke=\"black\"/>\n",
       "<text font-family=\"Times New Roman,serif\" font-size=\"14.00\" text-anchor=\"middle\" x=\"89.5\" y=\"-1547.8\">block1_conv1: Conv2D</text>\n",
       "</g>\n",
       "<!-- 2022631887592&#45;&gt;2020909402768 -->\n",
       "<g class=\"edge\" id=\"edge1\"><title>2022631887592-&gt;2020909402768</title>\n",
       "<path d=\"M89.5,-1606.31C89.5,-1598.29 89.5,-1588.55 89.5,-1579.57\" fill=\"none\" stroke=\"black\"/>\n",
       "<polygon fill=\"black\" points=\"93.0001,-1579.53 89.5,-1569.53 86.0001,-1579.53 93.0001,-1579.53\" stroke=\"black\"/>\n",
       "</g>\n",
       "<!-- 2020909351376 -->\n",
       "<g class=\"node\" id=\"node3\"><title>2020909351376</title>\n",
       "<polygon fill=\"none\" points=\"14,-1460.5 14,-1496.5 165,-1496.5 165,-1460.5 14,-1460.5\" stroke=\"black\"/>\n",
       "<text font-family=\"Times New Roman,serif\" font-size=\"14.00\" text-anchor=\"middle\" x=\"89.5\" y=\"-1474.8\">block1_conv2: Conv2D</text>\n",
       "</g>\n",
       "<!-- 2020909402768&#45;&gt;2020909351376 -->\n",
       "<g class=\"edge\" id=\"edge2\"><title>2020909402768-&gt;2020909351376</title>\n",
       "<path d=\"M89.5,-1533.31C89.5,-1525.29 89.5,-1515.55 89.5,-1506.57\" fill=\"none\" stroke=\"black\"/>\n",
       "<polygon fill=\"black\" points=\"93.0001,-1506.53 89.5,-1496.53 86.0001,-1506.53 93.0001,-1506.53\" stroke=\"black\"/>\n",
       "</g>\n",
       "<!-- 2022077014088 -->\n",
       "<g class=\"node\" id=\"node4\"><title>2022077014088</title>\n",
       "<polygon fill=\"none\" points=\"0,-1387.5 0,-1423.5 179,-1423.5 179,-1387.5 0,-1387.5\" stroke=\"black\"/>\n",
       "<text font-family=\"Times New Roman,serif\" font-size=\"14.00\" text-anchor=\"middle\" x=\"89.5\" y=\"-1401.8\">block1_pool: MaxPooling2D</text>\n",
       "</g>\n",
       "<!-- 2020909351376&#45;&gt;2022077014088 -->\n",
       "<g class=\"edge\" id=\"edge3\"><title>2020909351376-&gt;2022077014088</title>\n",
       "<path d=\"M89.5,-1460.31C89.5,-1452.29 89.5,-1442.55 89.5,-1433.57\" fill=\"none\" stroke=\"black\"/>\n",
       "<polygon fill=\"black\" points=\"93.0001,-1433.53 89.5,-1423.53 86.0001,-1433.53 93.0001,-1433.53\" stroke=\"black\"/>\n",
       "</g>\n",
       "<!-- 2020782633984 -->\n",
       "<g class=\"node\" id=\"node5\"><title>2020782633984</title>\n",
       "<polygon fill=\"none\" points=\"14,-1314.5 14,-1350.5 165,-1350.5 165,-1314.5 14,-1314.5\" stroke=\"black\"/>\n",
       "<text font-family=\"Times New Roman,serif\" font-size=\"14.00\" text-anchor=\"middle\" x=\"89.5\" y=\"-1328.8\">block2_conv1: Conv2D</text>\n",
       "</g>\n",
       "<!-- 2022077014088&#45;&gt;2020782633984 -->\n",
       "<g class=\"edge\" id=\"edge4\"><title>2022077014088-&gt;2020782633984</title>\n",
       "<path d=\"M89.5,-1387.31C89.5,-1379.29 89.5,-1369.55 89.5,-1360.57\" fill=\"none\" stroke=\"black\"/>\n",
       "<polygon fill=\"black\" points=\"93.0001,-1360.53 89.5,-1350.53 86.0001,-1360.53 93.0001,-1360.53\" stroke=\"black\"/>\n",
       "</g>\n",
       "<!-- 2022631335080 -->\n",
       "<g class=\"node\" id=\"node6\"><title>2022631335080</title>\n",
       "<polygon fill=\"none\" points=\"14,-1241.5 14,-1277.5 165,-1277.5 165,-1241.5 14,-1241.5\" stroke=\"black\"/>\n",
       "<text font-family=\"Times New Roman,serif\" font-size=\"14.00\" text-anchor=\"middle\" x=\"89.5\" y=\"-1255.8\">block2_conv2: Conv2D</text>\n",
       "</g>\n",
       "<!-- 2020782633984&#45;&gt;2022631335080 -->\n",
       "<g class=\"edge\" id=\"edge5\"><title>2020782633984-&gt;2022631335080</title>\n",
       "<path d=\"M89.5,-1314.31C89.5,-1306.29 89.5,-1296.55 89.5,-1287.57\" fill=\"none\" stroke=\"black\"/>\n",
       "<polygon fill=\"black\" points=\"93.0001,-1287.53 89.5,-1277.53 86.0001,-1287.53 93.0001,-1287.53\" stroke=\"black\"/>\n",
       "</g>\n",
       "<!-- 2021884198136 -->\n",
       "<g class=\"node\" id=\"node7\"><title>2021884198136</title>\n",
       "<polygon fill=\"none\" points=\"0,-1168.5 0,-1204.5 179,-1204.5 179,-1168.5 0,-1168.5\" stroke=\"black\"/>\n",
       "<text font-family=\"Times New Roman,serif\" font-size=\"14.00\" text-anchor=\"middle\" x=\"89.5\" y=\"-1182.8\">block2_pool: MaxPooling2D</text>\n",
       "</g>\n",
       "<!-- 2022631335080&#45;&gt;2021884198136 -->\n",
       "<g class=\"edge\" id=\"edge6\"><title>2022631335080-&gt;2021884198136</title>\n",
       "<path d=\"M89.5,-1241.31C89.5,-1233.29 89.5,-1223.55 89.5,-1214.57\" fill=\"none\" stroke=\"black\"/>\n",
       "<polygon fill=\"black\" points=\"93.0001,-1214.53 89.5,-1204.53 86.0001,-1214.53 93.0001,-1214.53\" stroke=\"black\"/>\n",
       "</g>\n",
       "<!-- 2020915597832 -->\n",
       "<g class=\"node\" id=\"node8\"><title>2020915597832</title>\n",
       "<polygon fill=\"none\" points=\"14,-1095.5 14,-1131.5 165,-1131.5 165,-1095.5 14,-1095.5\" stroke=\"black\"/>\n",
       "<text font-family=\"Times New Roman,serif\" font-size=\"14.00\" text-anchor=\"middle\" x=\"89.5\" y=\"-1109.8\">block3_conv1: Conv2D</text>\n",
       "</g>\n",
       "<!-- 2021884198136&#45;&gt;2020915597832 -->\n",
       "<g class=\"edge\" id=\"edge7\"><title>2021884198136-&gt;2020915597832</title>\n",
       "<path d=\"M89.5,-1168.31C89.5,-1160.29 89.5,-1150.55 89.5,-1141.57\" fill=\"none\" stroke=\"black\"/>\n",
       "<polygon fill=\"black\" points=\"93.0001,-1141.53 89.5,-1131.53 86.0001,-1141.53 93.0001,-1141.53\" stroke=\"black\"/>\n",
       "</g>\n",
       "<!-- 2020915796120 -->\n",
       "<g class=\"node\" id=\"node9\"><title>2020915796120</title>\n",
       "<polygon fill=\"none\" points=\"14,-1022.5 14,-1058.5 165,-1058.5 165,-1022.5 14,-1022.5\" stroke=\"black\"/>\n",
       "<text font-family=\"Times New Roman,serif\" font-size=\"14.00\" text-anchor=\"middle\" x=\"89.5\" y=\"-1036.8\">block3_conv2: Conv2D</text>\n",
       "</g>\n",
       "<!-- 2020915597832&#45;&gt;2020915796120 -->\n",
       "<g class=\"edge\" id=\"edge8\"><title>2020915597832-&gt;2020915796120</title>\n",
       "<path d=\"M89.5,-1095.31C89.5,-1087.29 89.5,-1077.55 89.5,-1068.57\" fill=\"none\" stroke=\"black\"/>\n",
       "<polygon fill=\"black\" points=\"93.0001,-1068.53 89.5,-1058.53 86.0001,-1068.53 93.0001,-1068.53\" stroke=\"black\"/>\n",
       "</g>\n",
       "<!-- 2020782380256 -->\n",
       "<g class=\"node\" id=\"node10\"><title>2020782380256</title>\n",
       "<polygon fill=\"none\" points=\"14,-949.5 14,-985.5 165,-985.5 165,-949.5 14,-949.5\" stroke=\"black\"/>\n",
       "<text font-family=\"Times New Roman,serif\" font-size=\"14.00\" text-anchor=\"middle\" x=\"89.5\" y=\"-963.8\">block3_conv3: Conv2D</text>\n",
       "</g>\n",
       "<!-- 2020915796120&#45;&gt;2020782380256 -->\n",
       "<g class=\"edge\" id=\"edge9\"><title>2020915796120-&gt;2020782380256</title>\n",
       "<path d=\"M89.5,-1022.31C89.5,-1014.29 89.5,-1004.55 89.5,-995.569\" fill=\"none\" stroke=\"black\"/>\n",
       "<polygon fill=\"black\" points=\"93.0001,-995.529 89.5,-985.529 86.0001,-995.529 93.0001,-995.529\" stroke=\"black\"/>\n",
       "</g>\n",
       "<!-- 2020782775824 -->\n",
       "<g class=\"node\" id=\"node11\"><title>2020782775824</title>\n",
       "<polygon fill=\"none\" points=\"0,-876.5 0,-912.5 179,-912.5 179,-876.5 0,-876.5\" stroke=\"black\"/>\n",
       "<text font-family=\"Times New Roman,serif\" font-size=\"14.00\" text-anchor=\"middle\" x=\"89.5\" y=\"-890.8\">block3_pool: MaxPooling2D</text>\n",
       "</g>\n",
       "<!-- 2020782380256&#45;&gt;2020782775824 -->\n",
       "<g class=\"edge\" id=\"edge10\"><title>2020782380256-&gt;2020782775824</title>\n",
       "<path d=\"M89.5,-949.313C89.5,-941.289 89.5,-931.547 89.5,-922.569\" fill=\"none\" stroke=\"black\"/>\n",
       "<polygon fill=\"black\" points=\"93.0001,-922.529 89.5,-912.529 86.0001,-922.529 93.0001,-922.529\" stroke=\"black\"/>\n",
       "</g>\n",
       "<!-- 2020782682352 -->\n",
       "<g class=\"node\" id=\"node12\"><title>2020782682352</title>\n",
       "<polygon fill=\"none\" points=\"14,-803.5 14,-839.5 165,-839.5 165,-803.5 14,-803.5\" stroke=\"black\"/>\n",
       "<text font-family=\"Times New Roman,serif\" font-size=\"14.00\" text-anchor=\"middle\" x=\"89.5\" y=\"-817.8\">block4_conv1: Conv2D</text>\n",
       "</g>\n",
       "<!-- 2020782775824&#45;&gt;2020782682352 -->\n",
       "<g class=\"edge\" id=\"edge11\"><title>2020782775824-&gt;2020782682352</title>\n",
       "<path d=\"M89.5,-876.313C89.5,-868.289 89.5,-858.547 89.5,-849.569\" fill=\"none\" stroke=\"black\"/>\n",
       "<polygon fill=\"black\" points=\"93.0001,-849.529 89.5,-839.529 86.0001,-849.529 93.0001,-849.529\" stroke=\"black\"/>\n",
       "</g>\n",
       "<!-- 2020782231280 -->\n",
       "<g class=\"node\" id=\"node13\"><title>2020782231280</title>\n",
       "<polygon fill=\"none\" points=\"14,-730.5 14,-766.5 165,-766.5 165,-730.5 14,-730.5\" stroke=\"black\"/>\n",
       "<text font-family=\"Times New Roman,serif\" font-size=\"14.00\" text-anchor=\"middle\" x=\"89.5\" y=\"-744.8\">block4_conv2: Conv2D</text>\n",
       "</g>\n",
       "<!-- 2020782682352&#45;&gt;2020782231280 -->\n",
       "<g class=\"edge\" id=\"edge12\"><title>2020782682352-&gt;2020782231280</title>\n",
       "<path d=\"M89.5,-803.313C89.5,-795.289 89.5,-785.547 89.5,-776.569\" fill=\"none\" stroke=\"black\"/>\n",
       "<polygon fill=\"black\" points=\"93.0001,-776.529 89.5,-766.529 86.0001,-776.529 93.0001,-776.529\" stroke=\"black\"/>\n",
       "</g>\n",
       "<!-- 2020782220120 -->\n",
       "<g class=\"node\" id=\"node14\"><title>2020782220120</title>\n",
       "<polygon fill=\"none\" points=\"14,-657.5 14,-693.5 165,-693.5 165,-657.5 14,-657.5\" stroke=\"black\"/>\n",
       "<text font-family=\"Times New Roman,serif\" font-size=\"14.00\" text-anchor=\"middle\" x=\"89.5\" y=\"-671.8\">block4_conv3: Conv2D</text>\n",
       "</g>\n",
       "<!-- 2020782231280&#45;&gt;2020782220120 -->\n",
       "<g class=\"edge\" id=\"edge13\"><title>2020782231280-&gt;2020782220120</title>\n",
       "<path d=\"M89.5,-730.313C89.5,-722.289 89.5,-712.547 89.5,-703.569\" fill=\"none\" stroke=\"black\"/>\n",
       "<polygon fill=\"black\" points=\"93.0001,-703.529 89.5,-693.529 86.0001,-703.529 93.0001,-703.529\" stroke=\"black\"/>\n",
       "</g>\n",
       "<!-- 2020782484000 -->\n",
       "<g class=\"node\" id=\"node15\"><title>2020782484000</title>\n",
       "<polygon fill=\"none\" points=\"0,-584.5 0,-620.5 179,-620.5 179,-584.5 0,-584.5\" stroke=\"black\"/>\n",
       "<text font-family=\"Times New Roman,serif\" font-size=\"14.00\" text-anchor=\"middle\" x=\"89.5\" y=\"-598.8\">block4_pool: MaxPooling2D</text>\n",
       "</g>\n",
       "<!-- 2020782220120&#45;&gt;2020782484000 -->\n",
       "<g class=\"edge\" id=\"edge14\"><title>2020782220120-&gt;2020782484000</title>\n",
       "<path d=\"M89.5,-657.313C89.5,-649.289 89.5,-639.547 89.5,-630.569\" fill=\"none\" stroke=\"black\"/>\n",
       "<polygon fill=\"black\" points=\"93.0001,-630.529 89.5,-620.529 86.0001,-630.529 93.0001,-630.529\" stroke=\"black\"/>\n",
       "</g>\n",
       "<!-- 2022631420256 -->\n",
       "<g class=\"node\" id=\"node16\"><title>2022631420256</title>\n",
       "<polygon fill=\"none\" points=\"14,-511.5 14,-547.5 165,-547.5 165,-511.5 14,-511.5\" stroke=\"black\"/>\n",
       "<text font-family=\"Times New Roman,serif\" font-size=\"14.00\" text-anchor=\"middle\" x=\"89.5\" y=\"-525.8\">block5_conv1: Conv2D</text>\n",
       "</g>\n",
       "<!-- 2020782484000&#45;&gt;2022631420256 -->\n",
       "<g class=\"edge\" id=\"edge15\"><title>2020782484000-&gt;2022631420256</title>\n",
       "<path d=\"M89.5,-584.313C89.5,-576.289 89.5,-566.547 89.5,-557.569\" fill=\"none\" stroke=\"black\"/>\n",
       "<polygon fill=\"black\" points=\"93.0001,-557.529 89.5,-547.529 86.0001,-557.529 93.0001,-557.529\" stroke=\"black\"/>\n",
       "</g>\n",
       "<!-- 2022631589312 -->\n",
       "<g class=\"node\" id=\"node17\"><title>2022631589312</title>\n",
       "<polygon fill=\"none\" points=\"14,-438.5 14,-474.5 165,-474.5 165,-438.5 14,-438.5\" stroke=\"black\"/>\n",
       "<text font-family=\"Times New Roman,serif\" font-size=\"14.00\" text-anchor=\"middle\" x=\"89.5\" y=\"-452.8\">block5_conv2: Conv2D</text>\n",
       "</g>\n",
       "<!-- 2022631420256&#45;&gt;2022631589312 -->\n",
       "<g class=\"edge\" id=\"edge16\"><title>2022631420256-&gt;2022631589312</title>\n",
       "<path d=\"M89.5,-511.313C89.5,-503.289 89.5,-493.547 89.5,-484.569\" fill=\"none\" stroke=\"black\"/>\n",
       "<polygon fill=\"black\" points=\"93.0001,-484.529 89.5,-474.529 86.0001,-484.529 93.0001,-484.529\" stroke=\"black\"/>\n",
       "</g>\n",
       "<!-- 2020782352928 -->\n",
       "<g class=\"node\" id=\"node18\"><title>2020782352928</title>\n",
       "<polygon fill=\"none\" points=\"14,-365.5 14,-401.5 165,-401.5 165,-365.5 14,-365.5\" stroke=\"black\"/>\n",
       "<text font-family=\"Times New Roman,serif\" font-size=\"14.00\" text-anchor=\"middle\" x=\"89.5\" y=\"-379.8\">block5_conv3: Conv2D</text>\n",
       "</g>\n",
       "<!-- 2022631589312&#45;&gt;2020782352928 -->\n",
       "<g class=\"edge\" id=\"edge17\"><title>2022631589312-&gt;2020782352928</title>\n",
       "<path d=\"M89.5,-438.313C89.5,-430.289 89.5,-420.547 89.5,-411.569\" fill=\"none\" stroke=\"black\"/>\n",
       "<polygon fill=\"black\" points=\"93.0001,-411.529 89.5,-401.529 86.0001,-411.529 93.0001,-411.529\" stroke=\"black\"/>\n",
       "</g>\n",
       "<!-- 2020782201544 -->\n",
       "<g class=\"node\" id=\"node19\"><title>2020782201544</title>\n",
       "<polygon fill=\"none\" points=\"0,-292.5 0,-328.5 179,-328.5 179,-292.5 0,-292.5\" stroke=\"black\"/>\n",
       "<text font-family=\"Times New Roman,serif\" font-size=\"14.00\" text-anchor=\"middle\" x=\"89.5\" y=\"-306.8\">block5_pool: MaxPooling2D</text>\n",
       "</g>\n",
       "<!-- 2020782352928&#45;&gt;2020782201544 -->\n",
       "<g class=\"edge\" id=\"edge18\"><title>2020782352928-&gt;2020782201544</title>\n",
       "<path d=\"M89.5,-365.313C89.5,-357.289 89.5,-347.547 89.5,-338.569\" fill=\"none\" stroke=\"black\"/>\n",
       "<polygon fill=\"black\" points=\"93.0001,-338.529 89.5,-328.529 86.0001,-338.529 93.0001,-338.529\" stroke=\"black\"/>\n",
       "</g>\n",
       "<!-- 2020782387328 -->\n",
       "<g class=\"node\" id=\"node20\"><title>2020782387328</title>\n",
       "<polygon fill=\"none\" points=\"42,-219.5 42,-255.5 137,-255.5 137,-219.5 42,-219.5\" stroke=\"black\"/>\n",
       "<text font-family=\"Times New Roman,serif\" font-size=\"14.00\" text-anchor=\"middle\" x=\"89.5\" y=\"-233.8\">flatten: Flatten</text>\n",
       "</g>\n",
       "<!-- 2020782201544&#45;&gt;2020782387328 -->\n",
       "<g class=\"edge\" id=\"edge19\"><title>2020782201544-&gt;2020782387328</title>\n",
       "<path d=\"M89.5,-292.313C89.5,-284.289 89.5,-274.547 89.5,-265.569\" fill=\"none\" stroke=\"black\"/>\n",
       "<polygon fill=\"black\" points=\"93.0001,-265.529 89.5,-255.529 86.0001,-265.529 93.0001,-265.529\" stroke=\"black\"/>\n",
       "</g>\n",
       "<!-- 2020782186792 -->\n",
       "<g class=\"node\" id=\"node21\"><title>2020782186792</title>\n",
       "<polygon fill=\"none\" points=\"51.5,-146.5 51.5,-182.5 127.5,-182.5 127.5,-146.5 51.5,-146.5\" stroke=\"black\"/>\n",
       "<text font-family=\"Times New Roman,serif\" font-size=\"14.00\" text-anchor=\"middle\" x=\"89.5\" y=\"-160.8\">fc1: Dense</text>\n",
       "</g>\n",
       "<!-- 2020782387328&#45;&gt;2020782186792 -->\n",
       "<g class=\"edge\" id=\"edge20\"><title>2020782387328-&gt;2020782186792</title>\n",
       "<path d=\"M89.5,-219.313C89.5,-211.289 89.5,-201.547 89.5,-192.569\" fill=\"none\" stroke=\"black\"/>\n",
       "<polygon fill=\"black\" points=\"93.0001,-192.529 89.5,-182.529 86.0001,-192.529 93.0001,-192.529\" stroke=\"black\"/>\n",
       "</g>\n",
       "<!-- 2020782167656 -->\n",
       "<g class=\"node\" id=\"node22\"><title>2020782167656</title>\n",
       "<polygon fill=\"none\" points=\"51.5,-73.5 51.5,-109.5 127.5,-109.5 127.5,-73.5 51.5,-73.5\" stroke=\"black\"/>\n",
       "<text font-family=\"Times New Roman,serif\" font-size=\"14.00\" text-anchor=\"middle\" x=\"89.5\" y=\"-87.8\">fc2: Dense</text>\n",
       "</g>\n",
       "<!-- 2020782186792&#45;&gt;2020782167656 -->\n",
       "<g class=\"edge\" id=\"edge21\"><title>2020782186792-&gt;2020782167656</title>\n",
       "<path d=\"M89.5,-146.313C89.5,-138.289 89.5,-128.547 89.5,-119.569\" fill=\"none\" stroke=\"black\"/>\n",
       "<polygon fill=\"black\" points=\"93.0001,-119.529 89.5,-109.529 86.0001,-119.529 93.0001,-119.529\" stroke=\"black\"/>\n",
       "</g>\n",
       "<!-- 2020782146280 -->\n",
       "<g class=\"node\" id=\"node23\"><title>2020782146280</title>\n",
       "<polygon fill=\"none\" points=\"29.5,-0.5 29.5,-36.5 149.5,-36.5 149.5,-0.5 29.5,-0.5\" stroke=\"black\"/>\n",
       "<text font-family=\"Times New Roman,serif\" font-size=\"14.00\" text-anchor=\"middle\" x=\"89.5\" y=\"-14.8\">predictions: Dense</text>\n",
       "</g>\n",
       "<!-- 2020782167656&#45;&gt;2020782146280 -->\n",
       "<g class=\"edge\" id=\"edge22\"><title>2020782167656-&gt;2020782146280</title>\n",
       "<path d=\"M89.5,-73.3129C89.5,-65.2895 89.5,-55.5475 89.5,-46.5691\" fill=\"none\" stroke=\"black\"/>\n",
       "<polygon fill=\"black\" points=\"93.0001,-46.5288 89.5,-36.5288 86.0001,-46.5289 93.0001,-46.5288\" stroke=\"black\"/>\n",
       "</g>\n",
       "</g>\n",
       "</svg>"
      ],
      "text/plain": [
       "<IPython.core.display.SVG object>"
      ]
     },
     "execution_count": 42,
     "metadata": {},
     "output_type": "execute_result"
    }
   ],
   "source": [
    "from IPython.display import SVG\n",
    "from keras.utils.vis_utils import model_to_dot\n",
    "\n",
    "SVG(model_to_dot(model).create(prog='dot', format='svg'))"
   ]
  },
  {
   "cell_type": "markdown",
   "metadata": {},
   "source": [
    "And also see the shapes of weights"
   ]
  },
  {
   "cell_type": "code",
   "execution_count": 43,
   "metadata": {},
   "outputs": [
    {
     "name": "stdout",
     "output_type": "stream",
     "text": [
      "(3, 3, 3, 64)\n",
      "(64,)\n",
      "(3, 3, 64, 64)\n",
      "(64,)\n",
      "(3, 3, 64, 128)\n",
      "(128,)\n",
      "(3, 3, 128, 128)\n",
      "(128,)\n",
      "(3, 3, 128, 256)\n",
      "(256,)\n",
      "(3, 3, 256, 256)\n",
      "(256,)\n",
      "(3, 3, 256, 256)\n",
      "(256,)\n",
      "(3, 3, 256, 512)\n",
      "(512,)\n",
      "(3, 3, 512, 512)\n",
      "(512,)\n",
      "(3, 3, 512, 512)\n",
      "(512,)\n",
      "(3, 3, 512, 512)\n",
      "(512,)\n",
      "(3, 3, 512, 512)\n",
      "(512,)\n",
      "(3, 3, 512, 512)\n",
      "(512,)\n",
      "(25088, 4096)\n",
      "(4096,)\n",
      "(4096, 4096)\n",
      "(4096,)\n",
      "(4096, 1000)\n",
      "(1000,)\n"
     ]
    }
   ],
   "source": [
    "weights = model.get_weights()\n",
    "for weight in weights:\n",
    "    print(weight.shape)"
   ]
  },
  {
   "cell_type": "code",
   "execution_count": 44,
   "metadata": {},
   "outputs": [
    {
     "name": "stdout",
     "output_type": "stream",
     "text": [
      "<keras.engine.input_layer.InputLayer object at 0x000001D6EE4152E8>\n",
      "<keras.layers.convolutional.Conv2D object at 0x000001D687964A90>\n",
      "<keras.layers.convolutional.Conv2D object at 0x000001D6879581D0>\n",
      "<keras.layers.pooling.MaxPooling2D object at 0x000001D6CD2EA048>\n",
      "<keras.layers.convolutional.Conv2D object at 0x000001D68007F400>\n",
      "<keras.layers.convolutional.Conv2D object at 0x000001D6EE38E4A8>\n",
      "<keras.layers.pooling.MaxPooling2D object at 0x000001D6C1B07CF8>\n",
      "<keras.layers.convolutional.Conv2D object at 0x000001D687F4D208>\n",
      "<keras.layers.convolutional.Conv2D object at 0x000001D687F7D898>\n",
      "<keras.layers.convolutional.Conv2D object at 0x000001D6800414E0>\n",
      "<keras.layers.pooling.MaxPooling2D object at 0x000001D6800A1E10>\n",
      "<keras.layers.convolutional.Conv2D object at 0x000001D68008B0F0>\n",
      "<keras.layers.convolutional.Conv2D object at 0x000001D68001CEF0>\n",
      "<keras.layers.convolutional.Conv2D object at 0x000001D68001A358>\n",
      "<keras.layers.pooling.MaxPooling2D object at 0x000001D68005AA20>\n",
      "<keras.layers.convolutional.Conv2D object at 0x000001D6EE3A3160>\n",
      "<keras.layers.convolutional.Conv2D object at 0x000001D6EE3CC5C0>\n",
      "<keras.layers.convolutional.Conv2D object at 0x000001D68003AA20>\n",
      "<keras.layers.pooling.MaxPooling2D object at 0x000001D680015AC8>\n",
      "<keras.layers.core.Flatten object at 0x000001D680043080>\n",
      "<keras.layers.core.Dense object at 0x000001D680012128>\n",
      "<keras.layers.core.Dense object at 0x000001D68000D668>\n",
      "<keras.layers.core.Dense object at 0x000001D6800082E8>\n"
     ]
    }
   ],
   "source": [
    "layers = model.layers\n",
    "for layer in layers:\n",
    "    print(layer)"
   ]
  },
  {
   "cell_type": "markdown",
   "metadata": {},
   "source": [
    "You might notice that the number of weights is greater than the number of layers. This is because we also have bias weights, in which we are not currently inerested in."
   ]
  },
  {
   "cell_type": "markdown",
   "metadata": {},
   "source": [
    "### Task 1 \n",
    "Visualize weights from the input layer"
   ]
  },
  {
   "cell_type": "code",
   "execution_count": null,
   "metadata": {
    "collapsed": true
   },
   "outputs": [],
   "source": [
    "import numpy as np\n",
    "import cv2\n",
    "import matplotlib.pyplot as plt\n",
    "%matplotlib inline\n",
    "\n",
    "# your code to get filter from weights and than transform to the shape, that is compatible with cv2\n",
    "# please notice the shape of the layer \n",
    "\n",
    "cv2.normalize(img,  img, 0, 255, cv2.NORM_MINMAX)\n",
    "fig = plt.figure()\n",
    "ax1 = fig.add_subplot(1,1,1)\n",
    "ax1.imshow(img.astype('uint8'))"
   ]
  },
  {
   "cell_type": "markdown",
   "metadata": {},
   "source": [
    "### Task 2\n",
    "\n",
    "Feed an image to the model and get an output image from some layer\n",
    "\n",
    "You can see the output from each layer using this [guide](https://stackoverflow.com/a/41712013)"
   ]
  },
  {
   "cell_type": "markdown",
   "metadata": {},
   "source": [
    "### Task 3 \n",
    "\n",
    "Classify [cats and dogs](https://www.kaggle.com/c/dogs-vs-cats/data) images with [features from CNN](https://keras.io/applications/#extract-features-with-vgg16) using SVM/KNN/etc..."
   ]
  },
  {
   "cell_type": "markdown",
   "metadata": {},
   "source": [
    "### Building your own model\n",
    "\n",
    "Consider the NON-working example below (x_train not defined)"
   ]
  },
  {
   "cell_type": "code",
   "execution_count": null,
   "metadata": {},
   "outputs": [],
   "source": [
    "import keras\n",
    "from keras.datasets import cifar10\n",
    "from keras.preprocessing.image import ImageDataGenerator\n",
    "from keras.models import Sequential\n",
    "from keras.layers import Dense, Dropout, Activation, Flatten\n",
    "from keras.layers import Conv2D, MaxPooling2D\n",
    "import os\n",
    "\n",
    "model = Sequential() # initialize linear stacked model\n",
    "# create first conv layer and provide input shapes (other shapes will be calculated automatically)\n",
    "model.add(Conv2D(32, (3, 3), padding='same', input_shape=x_train.shape[1:])) \n",
    "# set activation function for the layer\n",
    "model.add(Activation('relu'))\n",
    "#repeat\n",
    "model.add(Conv2D(32, (3, 3)))\n",
    "model.add(Activation('relu'))\n",
    "# first maxpooling layer with 2x2 window\n",
    "model.add(MaxPooling2D(pool_size=(2, 2)))\n",
    "# set dropout to 25% of neurons number\n",
    "model.add(Dropout(0.25))\n",
    "\n",
    "# flatten convert ndarray fron the prev layer to 1D vector\n",
    "model.add(Flatten())\n",
    "# fully connected layer with 512 neurons\n",
    "model.add(Dense(512))\n",
    "model.add(Activation('relu'))\n",
    "model.add(Dropout(0.5))\n",
    "model.add(Dense(num_classes))\n",
    "model.add(Activation('softmax'))"
   ]
  },
  {
   "cell_type": "markdown",
   "metadata": {},
   "source": [
    "### Task 4\n",
    "\n",
    "Create your own simple architecture and train CNN on [MNIST](https://keras.io/datasets/#mnist-database-of-handwritten-digits) dataset. Note that MNIST is 1 color channel dataset.\n",
    "Test it on some hard images from the web, [such as](https://www.wpclipart.com/education/animal_numbers/animal_number_2.png)."
   ]
  },
  {
   "cell_type": "markdown",
   "metadata": {},
   "source": [
    "### Task 5\n",
    "\n",
    "Augment MNIST data using [ImageDataGenerator](https://keras.io/preprocessing/image/) and color inversion + visualize (or save) augmented images.\n",
    "Train your model on augmented data and compare the results on your images from the web."
   ]
  },
  {
   "cell_type": "markdown",
   "metadata": {},
   "source": [
    "### Task 6\n",
    "\n",
    "Try any of the data augmentation frameworks and show the results"
   ]
  },
  {
   "cell_type": "markdown",
   "metadata": {},
   "source": [
    "### Task 7\n",
    "\n",
    "[Use](https://www.learnopencv.com/keras-tutorial-fine-tuning-using-pre-trained-models/) pretrained model to train on CIFAR-10 dataset. For that, you can try to use your CNN architecture. "
   ]
  },
  {
   "cell_type": "markdown",
   "metadata": {},
   "source": [
    "### Task 8\n",
    "\n",
    "[Implement](https://medium.com/mlreview/making-ai-art-with-style-transfer-using-keras-8bb5fa44b216) style transfer technique"
   ]
  },
  {
   "cell_type": "code",
   "execution_count": null,
   "metadata": {
    "collapsed": true
   },
   "outputs": [],
   "source": []
  },
  {
   "cell_type": "code",
   "execution_count": null,
   "metadata": {
    "collapsed": true
   },
   "outputs": [],
   "source": []
  },
  {
   "cell_type": "code",
   "execution_count": null,
   "metadata": {
    "collapsed": true
   },
   "outputs": [],
   "source": []
  }
 ],
 "metadata": {
  "kernelspec": {
   "display_name": "Python 3",
   "language": "python",
   "name": "python3"
  },
  "language_info": {
   "codemirror_mode": {
    "name": "ipython",
    "version": 3
   },
   "file_extension": ".py",
   "mimetype": "text/x-python",
   "name": "python",
   "nbconvert_exporter": "python",
   "pygments_lexer": "ipython3",
   "version": "3.7.3"
  }
 },
 "nbformat": 4,
 "nbformat_minor": 2
}
